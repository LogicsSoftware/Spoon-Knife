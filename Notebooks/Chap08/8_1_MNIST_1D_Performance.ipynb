{
  "cells": [
    {
      "cell_type": "markdown",
      "metadata": {
        "id": "view-in-github",
        "colab_type": "text"
      },
      "source": [
        "<a href=\"https://colab.research.google.com/github/LogicsSoftware/Spoon-Knife/blob/master/Notebooks/Chap08/8_1_MNIST_1D_Performance.ipynb\" target=\"_parent\"><img src=\"https://colab.research.google.com/assets/colab-badge.svg\" alt=\"Open In Colab\"/></a>"
      ]
    },
    {
      "cell_type": "markdown",
      "metadata": {
        "id": "L6chybAVFJW2"
      },
      "source": [
        "# **Notebook 8.1: MNIST_1D_Performance**\n",
        "\n",
        "This notebook runs a simple neural network on the MNIST1D dataset as in figure 8.2a. It uses code from https://github.com/greydanus/mnist1d to generate the data.\n",
        "\n",
        "Work through the cells below, running each cell in turn. In various places you will see the words \"TODO\". Follow the instructions at these places and make predictions about what is going to happen or write code to complete the functions.\n",
        "\n",
        "Contact me at udlbookmail@gmail.com if you find any mistakes or have any suggestions."
      ]
    },
    {
      "cell_type": "code",
      "execution_count": 1,
      "metadata": {
        "id": "ifVjS4cTOqKz",
        "outputId": "d5200dd3-8b05-43e2-eb3b-5fce67e7df7d",
        "colab": {
          "base_uri": "https://localhost:8080/"
        }
      },
      "outputs": [
        {
          "output_type": "stream",
          "name": "stdout",
          "text": [
            "Collecting git+https://github.com/greydanus/mnist1d\n",
            "  Cloning https://github.com/greydanus/mnist1d to /tmp/pip-req-build-k13eh8i9\n",
            "  Running command git clone --filter=blob:none --quiet https://github.com/greydanus/mnist1d /tmp/pip-req-build-k13eh8i9\n",
            "  Resolved https://github.com/greydanus/mnist1d to commit 7878d96082abd200c546a07a4101fa90b30fdf7e\n",
            "  Installing build dependencies ... \u001b[?25l\u001b[?25hdone\n",
            "  Getting requirements to build wheel ... \u001b[?25l\u001b[?25hdone\n",
            "  Preparing metadata (pyproject.toml) ... \u001b[?25l\u001b[?25hdone\n",
            "Requirement already satisfied: requests in /usr/local/lib/python3.11/dist-packages (from mnist1d==0.0.2.post16) (2.32.3)\n",
            "Requirement already satisfied: numpy in /usr/local/lib/python3.11/dist-packages (from mnist1d==0.0.2.post16) (1.26.4)\n",
            "Requirement already satisfied: matplotlib in /usr/local/lib/python3.11/dist-packages (from mnist1d==0.0.2.post16) (3.10.0)\n",
            "Requirement already satisfied: scipy in /usr/local/lib/python3.11/dist-packages (from mnist1d==0.0.2.post16) (1.14.1)\n",
            "Requirement already satisfied: contourpy>=1.0.1 in /usr/local/lib/python3.11/dist-packages (from matplotlib->mnist1d==0.0.2.post16) (1.3.1)\n",
            "Requirement already satisfied: cycler>=0.10 in /usr/local/lib/python3.11/dist-packages (from matplotlib->mnist1d==0.0.2.post16) (0.12.1)\n",
            "Requirement already satisfied: fonttools>=4.22.0 in /usr/local/lib/python3.11/dist-packages (from matplotlib->mnist1d==0.0.2.post16) (4.56.0)\n",
            "Requirement already satisfied: kiwisolver>=1.3.1 in /usr/local/lib/python3.11/dist-packages (from matplotlib->mnist1d==0.0.2.post16) (1.4.8)\n",
            "Requirement already satisfied: packaging>=20.0 in /usr/local/lib/python3.11/dist-packages (from matplotlib->mnist1d==0.0.2.post16) (24.2)\n",
            "Requirement already satisfied: pillow>=8 in /usr/local/lib/python3.11/dist-packages (from matplotlib->mnist1d==0.0.2.post16) (11.1.0)\n",
            "Requirement already satisfied: pyparsing>=2.3.1 in /usr/local/lib/python3.11/dist-packages (from matplotlib->mnist1d==0.0.2.post16) (3.2.1)\n",
            "Requirement already satisfied: python-dateutil>=2.7 in /usr/local/lib/python3.11/dist-packages (from matplotlib->mnist1d==0.0.2.post16) (2.8.2)\n",
            "Requirement already satisfied: charset-normalizer<4,>=2 in /usr/local/lib/python3.11/dist-packages (from requests->mnist1d==0.0.2.post16) (3.4.1)\n",
            "Requirement already satisfied: idna<4,>=2.5 in /usr/local/lib/python3.11/dist-packages (from requests->mnist1d==0.0.2.post16) (3.10)\n",
            "Requirement already satisfied: urllib3<3,>=1.21.1 in /usr/local/lib/python3.11/dist-packages (from requests->mnist1d==0.0.2.post16) (2.3.0)\n",
            "Requirement already satisfied: certifi>=2017.4.17 in /usr/local/lib/python3.11/dist-packages (from requests->mnist1d==0.0.2.post16) (2025.1.31)\n",
            "Requirement already satisfied: six>=1.5 in /usr/local/lib/python3.11/dist-packages (from python-dateutil>=2.7->matplotlib->mnist1d==0.0.2.post16) (1.17.0)\n",
            "Building wheels for collected packages: mnist1d\n",
            "  Building wheel for mnist1d (pyproject.toml) ... \u001b[?25l\u001b[?25hdone\n",
            "  Created wheel for mnist1d: filename=mnist1d-0.0.2.post16-py3-none-any.whl size=14626 sha256=d24b742f17b908d9d7d997277c64096700c5f7ad736a7080198aad5d1278c85a\n",
            "  Stored in directory: /tmp/pip-ephem-wheel-cache-om5mjz9z/wheels/d6/38/42/3d2112bc7d915f6195254ac85eb761d922d1b18f52817aa8e2\n",
            "Successfully built mnist1d\n",
            "Installing collected packages: mnist1d\n",
            "Successfully installed mnist1d-0.0.2.post16\n"
          ]
        }
      ],
      "source": [
        "# Run this if you're in a Colab to install MNIST 1D repository\n",
        "%pip install git+https://github.com/greydanus/mnist1d"
      ]
    },
    {
      "cell_type": "code",
      "execution_count": 2,
      "metadata": {
        "id": "qyE7G1StPIqO"
      },
      "outputs": [],
      "source": [
        "import torch, torch.nn as nn\n",
        "from torch.utils.data import TensorDataset, DataLoader\n",
        "from torch.optim.lr_scheduler import StepLR\n",
        "import numpy as np\n",
        "import matplotlib.pyplot as plt\n",
        "import mnist1d"
      ]
    },
    {
      "cell_type": "markdown",
      "metadata": {
        "id": "F7LNq72SP6jO"
      },
      "source": [
        "Let's generate a training and test dataset using the MNIST1D code.  The dataset gets saved as a .pkl file so it doesn't have to be regenerated each time."
      ]
    },
    {
      "cell_type": "code",
      "execution_count": 3,
      "metadata": {
        "id": "YLxf7dJfPaqw",
        "outputId": "17de2472-ee74-4b71-efc3-c0308d4c726b",
        "colab": {
          "base_uri": "https://localhost:8080/"
        }
      },
      "outputs": [
        {
          "output_type": "stream",
          "name": "stdout",
          "text": [
            "Did or could not load data from ./mnist1d_data.pkl. Rebuilding dataset...\n",
            "Examples in training set: 4000\n",
            "Examples in test set: 1000\n",
            "Length of each example: 40\n"
          ]
        }
      ],
      "source": [
        "args = mnist1d.data.get_dataset_args()\n",
        "data = mnist1d.data.get_dataset(args, path='./mnist1d_data.pkl', download=False, regenerate=False)\n",
        "\n",
        "# The training and test input and outputs are in\n",
        "# data['x'], data['y'], data['x_test'], and data['y_test']\n",
        "print(\"Examples in training set: {}\".format(len(data['y'])))\n",
        "print(\"Examples in test set: {}\".format(len(data['y_test'])))\n",
        "print(\"Length of each example: {}\".format(data['x'].shape[-1]))"
      ]
    },
    {
      "cell_type": "code",
      "execution_count": 10,
      "metadata": {
        "id": "FxaB5vc0uevl",
        "outputId": "9f4241ff-689b-4031-fbcc-e62223523efe",
        "colab": {
          "base_uri": "https://localhost:8080/"
        }
      },
      "outputs": [
        {
          "output_type": "stream",
          "name": "stdout",
          "text": [
            "Initializing layer\n",
            "Initializing layer: isinstance(layer_in, nn.Linear)\n",
            "Initializing layer\n",
            "Initializing layer\n",
            "Initializing layer: isinstance(layer_in, nn.Linear)\n",
            "Initializing layer\n",
            "Initializing layer\n",
            "Initializing layer: isinstance(layer_in, nn.Linear)\n",
            "Initializing layer\n"
          ]
        },
        {
          "output_type": "execute_result",
          "data": {
            "text/plain": [
              "Sequential(\n",
              "  (0): Linear(in_features=40, out_features=100, bias=True)\n",
              "  (1): ReLU()\n",
              "  (2): Linear(in_features=100, out_features=100, bias=True)\n",
              "  (3): ReLU()\n",
              "  (4): Linear(in_features=100, out_features=10, bias=True)\n",
              ")"
            ]
          },
          "metadata": {},
          "execution_count": 10
        }
      ],
      "source": [
        "D_i = 40    # Input dimensions\n",
        "D_k = 100   # Hidden dimensions\n",
        "D_o = 10    # Output dimensions\n",
        "# TODO:\n",
        "# Define a model with two hidden layers of size 100\n",
        "# And ReLU activations between them\n",
        "# Replace this line (see Figure 7.8 of book for help):\n",
        "#model = torch.nn.Sequential(torch.nn.Linear(D_i, D_o));\n",
        "model = torch.nn.Sequential(\n",
        "    torch.nn.Linear(D_i, D_k),\n",
        "    torch.nn.ReLU(),\n",
        "    ##torch.nn.Linear(D_k, D_k),\n",
        "    ##torch.nn.ReLU(),\n",
        "    torch.nn.Linear(D_k, D_k),\n",
        "    torch.nn.ReLU(),\n",
        "    torch.nn.Linear(D_k, D_o)\n",
        ")\n",
        "\n",
        "\n",
        "def weights_init(layer_in):\n",
        "  # TODO:\n",
        "  # Initialize the parameters with He initialization\n",
        "  # Replace this line (see figure 7.8 of book for help)\n",
        "  print(\"Initializing layer\")\n",
        "  if isinstance(layer_in, nn.Linear):\n",
        "    print(\"Initializing layer: isinstance(layer_in, nn.Linear)\")\n",
        "    torch.nn.init.kaiming_normal_(layer_in.weight, nonlinearity='relu')\n",
        "    layer_in.bias.data.fill_(0.0)\n",
        "\n",
        "\n",
        "# Call the function you just defined\n",
        "model.apply(weights_init)\n"
      ]
    },
    {
      "cell_type": "code",
      "execution_count": 11,
      "metadata": {
        "id": "_rX6N3VyyQTY",
        "outputId": "5cdfeaf6-3ed8-4518-a02a-7310a6376fe3",
        "colab": {
          "base_uri": "https://localhost:8080/"
        }
      },
      "outputs": [
        {
          "output_type": "stream",
          "name": "stdout",
          "text": [
            "Initializing layer\n",
            "Initializing layer: isinstance(layer_in, nn.Linear)\n",
            "Initializing layer\n",
            "Initializing layer\n",
            "Initializing layer: isinstance(layer_in, nn.Linear)\n",
            "Initializing layer\n",
            "Initializing layer\n",
            "Initializing layer: isinstance(layer_in, nn.Linear)\n",
            "Initializing layer\n",
            "Epoch     0, train loss 1.572418, train error 60.47,  test loss 1.675032, test error 66.60\n",
            "Epoch     1, train loss 1.315009, train error 49.47,  test loss 1.443874, test error 57.10\n",
            "Epoch     2, train loss 1.120655, train error 40.08,  test loss 1.318396, test error 53.40\n",
            "Epoch     3, train loss 1.010903, train error 36.50,  test loss 1.241255, test error 48.20\n",
            "Epoch     4, train loss 0.900321, train error 32.78,  test loss 1.178687, test error 45.30\n",
            "Epoch     5, train loss 0.787680, train error 28.70,  test loss 1.135223, test error 42.50\n",
            "Epoch     6, train loss 0.716982, train error 25.70,  test loss 1.114266, test error 41.80\n",
            "Epoch     7, train loss 0.651338, train error 23.50,  test loss 1.120957, test error 42.10\n",
            "Epoch     8, train loss 0.570873, train error 18.97,  test loss 1.081484, test error 39.80\n",
            "Epoch     9, train loss 0.549899, train error 18.90,  test loss 1.150901, test error 42.10\n",
            "Epoch    10, train loss 0.417709, train error 11.93,  test loss 1.043665, test error 39.00\n",
            "Epoch    11, train loss 0.387293, train error 10.90,  test loss 1.034064, test error 36.90\n",
            "Epoch    12, train loss 0.359229, train error 10.68,  test loss 1.047614, test error 36.20\n",
            "Epoch    13, train loss 0.331815, train error 9.47,  test loss 1.067905, test error 37.10\n",
            "Epoch    14, train loss 0.312232, train error 8.20,  test loss 1.091544, test error 36.70\n",
            "Epoch    15, train loss 0.280304, train error 8.05,  test loss 1.097333, test error 38.10\n",
            "Epoch    16, train loss 0.255032, train error 6.28,  test loss 1.082662, test error 34.90\n",
            "Epoch    17, train loss 0.227214, train error 5.15,  test loss 1.096294, test error 36.60\n",
            "Epoch    18, train loss 0.216539, train error 5.07,  test loss 1.116342, test error 36.00\n",
            "Epoch    19, train loss 0.185275, train error 3.47,  test loss 1.113717, test error 35.00\n",
            "Epoch    20, train loss 0.159710, train error 2.43,  test loss 1.127124, test error 36.30\n",
            "Epoch    21, train loss 0.150936, train error 1.80,  test loss 1.138581, test error 35.60\n",
            "Epoch    22, train loss 0.147461, train error 2.00,  test loss 1.151140, test error 36.40\n",
            "Epoch    23, train loss 0.139880, train error 1.60,  test loss 1.163109, test error 35.70\n",
            "Epoch    24, train loss 0.128761, train error 1.28,  test loss 1.166741, test error 35.60\n",
            "Epoch    25, train loss 0.123122, train error 1.07,  test loss 1.175262, test error 36.60\n",
            "Epoch    26, train loss 0.119005, train error 1.38,  test loss 1.191063, test error 35.60\n",
            "Epoch    27, train loss 0.110773, train error 0.95,  test loss 1.194697, test error 35.50\n",
            "Epoch    28, train loss 0.105901, train error 0.90,  test loss 1.201519, test error 36.00\n",
            "Epoch    29, train loss 0.100725, train error 0.57,  test loss 1.213026, test error 36.40\n",
            "Epoch    30, train loss 0.094813, train error 0.53,  test loss 1.216961, test error 36.70\n",
            "Epoch    31, train loss 0.092361, train error 0.40,  test loss 1.225322, test error 36.50\n",
            "Epoch    32, train loss 0.091238, train error 0.40,  test loss 1.234422, test error 36.40\n",
            "Epoch    33, train loss 0.088001, train error 0.32,  test loss 1.235108, test error 36.20\n",
            "Epoch    34, train loss 0.086384, train error 0.38,  test loss 1.238825, test error 36.00\n",
            "Epoch    35, train loss 0.085231, train error 0.35,  test loss 1.245093, test error 36.00\n",
            "Epoch    36, train loss 0.082557, train error 0.20,  test loss 1.256817, test error 36.50\n",
            "Epoch    37, train loss 0.080654, train error 0.22,  test loss 1.256943, test error 36.20\n",
            "Epoch    38, train loss 0.079477, train error 0.20,  test loss 1.264543, test error 36.30\n",
            "Epoch    39, train loss 0.076892, train error 0.28,  test loss 1.265460, test error 36.10\n",
            "Epoch    40, train loss 0.075390, train error 0.18,  test loss 1.267668, test error 36.00\n",
            "Epoch    41, train loss 0.074509, train error 0.18,  test loss 1.270628, test error 36.30\n",
            "Epoch    42, train loss 0.073728, train error 0.12,  test loss 1.271063, test error 36.30\n",
            "Epoch    43, train loss 0.072968, train error 0.12,  test loss 1.277839, test error 36.10\n",
            "Epoch    44, train loss 0.072253, train error 0.10,  test loss 1.279714, test error 36.20\n",
            "Epoch    45, train loss 0.071753, train error 0.10,  test loss 1.278015, test error 36.00\n",
            "Epoch    46, train loss 0.070545, train error 0.10,  test loss 1.281396, test error 36.30\n",
            "Epoch    47, train loss 0.070251, train error 0.07,  test loss 1.285538, test error 36.00\n",
            "Epoch    48, train loss 0.069175, train error 0.07,  test loss 1.287245, test error 36.00\n",
            "Epoch    49, train loss 0.068480, train error 0.07,  test loss 1.291154, test error 36.10\n"
          ]
        }
      ],
      "source": [
        "# choose cross entropy loss function (equation 5.24)\n",
        "loss_function = torch.nn.CrossEntropyLoss()\n",
        "# construct SGD optimizer and initialize learning rate and momentum\n",
        "optimizer = torch.optim.SGD(model.parameters(), lr = 0.05, momentum=0.9)\n",
        "# object that decreases learning rate by half every 10 epochs\n",
        "scheduler = StepLR(optimizer, step_size=10, gamma=0.5)\n",
        "x_train = torch.tensor(data['x'].astype('float32'))\n",
        "y_train = torch.tensor(data['y'].transpose().astype('int64'))\n",
        "x_test= torch.tensor(data['x_test'].astype('float32'))\n",
        "y_test = torch.tensor(data['y_test'].astype('int64'))\n",
        "\n",
        "# load the data into a class that creates the batches\n",
        "data_loader = DataLoader(TensorDataset(x_train,y_train), batch_size=100, shuffle=True, worker_init_fn=np.random.seed(1))\n",
        "\n",
        "# Initialize model weights\n",
        "model.apply(weights_init)\n",
        "\n",
        "# loop over the dataset n_epoch times\n",
        "n_epoch = 50\n",
        "# store the loss and the % correct at each epoch\n",
        "losses_train = np.zeros((n_epoch))\n",
        "errors_train = np.zeros((n_epoch))\n",
        "losses_test = np.zeros((n_epoch))\n",
        "errors_test = np.zeros((n_epoch))\n",
        "\n",
        "for epoch in range(n_epoch):\n",
        "  # loop over batches\n",
        "  for i, batch in enumerate(data_loader):\n",
        "    # retrieve inputs and labels for this batch\n",
        "    x_batch, y_batch = batch\n",
        "    # zero the parameter gradients\n",
        "    optimizer.zero_grad()\n",
        "    # forward pass -- calculate model output\n",
        "    pred = model(x_batch)\n",
        "    # compute the loss\n",
        "    loss = loss_function(pred, y_batch)\n",
        "    # backward pass\n",
        "    loss.backward()\n",
        "    # SGD update\n",
        "    optimizer.step()\n",
        "\n",
        "  # Run whole dataset to get statistics -- normally wouldn't do this\n",
        "  pred_train = model(x_train)\n",
        "  pred_test = model(x_test)\n",
        "  _, predicted_train_class = torch.max(pred_train.data, 1)\n",
        "  _, predicted_test_class = torch.max(pred_test.data, 1)\n",
        "  errors_train[epoch] = 100 - 100 * (predicted_train_class == y_train).float().sum() / len(y_train)\n",
        "  errors_test[epoch]= 100 - 100 * (predicted_test_class == y_test).float().sum() / len(y_test)\n",
        "  losses_train[epoch] = loss_function(pred_train, y_train).item()\n",
        "  losses_test[epoch]= loss_function(pred_test, y_test).item()\n",
        "  print(f'Epoch {epoch:5d}, train loss {losses_train[epoch]:.6f}, train error {errors_train[epoch]:3.2f},  test loss {losses_test[epoch]:.6f}, test error {errors_test[epoch]:3.2f}')\n",
        "\n",
        "  # tell scheduler to consider updating learning rate\n",
        "  scheduler.step()"
      ]
    },
    {
      "cell_type": "code",
      "execution_count": 12,
      "metadata": {
        "id": "yI-l6kA_EH9G",
        "outputId": "faf8e85d-679c-4649-94b4-ed97edb5f7d3",
        "colab": {
          "base_uri": "https://localhost:8080/",
          "height": 927
        }
      },
      "outputs": [
        {
          "output_type": "display_data",
          "data": {
            "text/plain": [
              "<Figure size 640x480 with 1 Axes>"
            ],
            "image/png": "[encoded data removed]"
          },
          "metadata": {}
        },
        {
          "output_type": "display_data",
          "data": {
            "text/plain": [
              "<Figure size 640x480 with 1 Axes>"
            ],
            "image/png": "[encoded data removed]"
          },
          "metadata": {}
        }
      ],
      "source": [
        "# Plot the results\n",
        "fig, ax = plt.subplots()\n",
        "ax.plot(errors_train,'r-',label='train')\n",
        "ax.plot(errors_test,'b-',label='test')\n",
        "ax.set_ylim(0,100); ax.set_xlim(0,n_epoch)\n",
        "ax.set_xlabel('Epoch'); ax.set_ylabel('Error')\n",
        "ax.set_title('TrainError %3.2f, Test Error %3.2f'%(errors_train[-1],errors_test[-1]))\n",
        "ax.legend()\n",
        "plt.show()\n",
        "\n",
        "# Plot the results\n",
        "fig, ax = plt.subplots()\n",
        "ax.plot(losses_train,'r-',label='train')\n",
        "ax.plot(losses_test,'b-',label='test')\n",
        "ax.set_xlim(0,n_epoch)\n",
        "ax.set_xlabel('Epoch'); ax.set_ylabel('Loss')\n",
        "ax.set_title('Train loss %3.2f, Test loss %3.2f'%(losses_train[-1],losses_test[-1]))\n",
        "ax.legend()\n",
        "plt.show()"
      ]
    },
    {
      "cell_type": "markdown",
      "metadata": {
        "id": "q-yT6re6GZS4"
      },
      "source": [
        "**TODO**\n",
        "\n",
        "Play with the model -- try changing the number of layers, hidden units, learning rate, batch size, momentum or anything else you like.  See if you can improve the test results.\n",
        "\n",
        "Is it a good idea to optimize the hyperparameters in this way?  Will the final result be a good estimate of the true test performance?"
      ]
    }
  ],
  "metadata": {
    "accelerator": "GPU",
    "colab": {
      "gpuType": "T4",
      "provenance": [],
      "include_colab_link": true
    },
    "kernelspec": {
      "display_name": "Python 3",
      "name": "python3"
    },
    "language_info": {
      "name": "python"
    }
  },
  "nbformat": 4,
  "nbformat_minor": 0
}